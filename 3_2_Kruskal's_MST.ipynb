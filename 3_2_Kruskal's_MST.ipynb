{
  "nbformat": 4,
  "nbformat_minor": 0,
  "metadata": {
    "colab": {
      "provenance": [],
      "include_colab_link": true
    },
    "kernelspec": {
      "name": "python3",
      "display_name": "Python 3"
    },
    "language_info": {
      "name": "python"
    }
  },
  "cells": [
    {
      "cell_type": "markdown",
      "metadata": {
        "id": "view-in-github",
        "colab_type": "text"
      },
      "source": [
        "<a href=\"https://colab.research.google.com/github/Prathameshd19/AI/blob/main/3_2_Kruskal's_MST.ipynb\" target=\"_parent\"><img src=\"https://colab.research.google.com/assets/colab-badge.svg\" alt=\"Open In Colab\"/></a>"
      ]
    },
    {
      "cell_type": "code",
      "execution_count": null,
      "metadata": {
        "id": "LMVEC_P6i7Uw",
        "outputId": "1ba740cf-050e-4f9c-eacf-5626d4d61843",
        "colab": {
          "base_uri": "https://localhost:8080/"
        }
      },
      "outputs": [
        {
          "output_type": "stream",
          "name": "stdout",
          "text": [
            "Edges in the constructed MST\n",
            "2 -- 3 == 4\n",
            "0 -- 3 == 5\n",
            "0 -- 1 == 10\n",
            "Minimum Spanning Tree 19\n"
          ]
        }
      ],
      "source": [
        "from collections import defaultdict\n",
        "\n",
        "class Graph:\n",
        "\n",
        "\tdef __init__(self, vertices):\n",
        "\t\tself.V = vertices\n",
        "\t\tself.graph = []\n",
        "\n",
        "\tdef addEdge(self, u, v, w):\n",
        "\t\tself.graph.append([u, v, w])\n",
        "\n",
        "\tdef find(self, parent, i):\n",
        "\t\tif parent[i] == i:\n",
        "\t\t\treturn i\n",
        "\t\treturn self.find(parent, parent[i])\n",
        "\n",
        "\n",
        "\tdef union(self, parent, rank, x, y):\n",
        "\t\txroot = self.find(parent, x)\n",
        "\t\tyroot = self.find(parent, y)\n",
        "\n",
        "\t\tif rank[xroot] < rank[yroot]:\n",
        "\t\t\tparent[xroot] = yroot\n",
        "\t\telif rank[xroot] > rank[yroot]:\n",
        "\t\t\tparent[yroot] = xroot\n",
        "\n",
        "\t\telse:\n",
        "\t\t\tparent[yroot] = xroot\n",
        "\t\t\trank[xroot] += 1\n",
        "\n",
        "\tdef KruskalMST(self):\n",
        "\n",
        "\t\tresult = []\n",
        "\n",
        "\t\ti = 0\n",
        "\n",
        "\t\te = 0\n",
        "\n",
        "\t\tself.graph = sorted(self.graph,\n",
        "\t\t\t\t\t\t\tkey=lambda item: item[2])\n",
        "\n",
        "\t\tparent = []\n",
        "\t\trank = []\n",
        "\n",
        "\t\tfor node in range(self.V):\n",
        "\t\t\tparent.append(node)\n",
        "\t\t\trank.append(0)\n",
        "\n",
        "\t\twhile e < self.V - 1:\n",
        "\n",
        "\t\t\tu, v, w = self.graph[i]\n",
        "\t\t\ti = i + 1\n",
        "\t\t\tx = self.find(parent, u)\n",
        "\t\t\ty = self.find(parent, v)\n",
        "\n",
        "\t\t\tif x != y:\n",
        "\t\t\t\te = e + 1\n",
        "\t\t\t\tresult.append([u, v, w])\n",
        "\t\t\t\tself.union(parent, rank, x, y)\n",
        "\n",
        "\t\tminimumCost = 0\n",
        "\t\tprint (\"Edges in the constructed MST\")\n",
        "\t\tfor u, v, weight in result:\n",
        "\t\t\tminimumCost += weight\n",
        "\t\t\tprint(\"%d -- %d == %d\" % (u, v, weight))\n",
        "\t\tprint(\"Minimum Spanning Tree\" , minimumCost)\n",
        "\n",
        "g = Graph(4)\n",
        "g.addEdge(0, 1, 10)\n",
        "g.addEdge(0, 2, 6)\n",
        "g.addEdge(0, 3, 5)\n",
        "g.addEdge(1, 3, 15)\n",
        "g.addEdge(2, 3, 4)\n",
        "\n",
        "g.KruskalMST()\n",
        "\n",
        "\n"
      ]
    }
  ]
}