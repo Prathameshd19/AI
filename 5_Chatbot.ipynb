{
  "nbformat": 4,
  "nbformat_minor": 0,
  "metadata": {
    "colab": {
      "provenance": [],
      "include_colab_link": true
    },
    "kernelspec": {
      "name": "python3",
      "display_name": "Python 3"
    },
    "language_info": {
      "name": "python"
    }
  },
  "cells": [
    {
      "cell_type": "markdown",
      "metadata": {
        "id": "view-in-github",
        "colab_type": "text"
      },
      "source": [
        "<a href=\"https://colab.research.google.com/github/Prathameshd19/AI/blob/main/5_Chatbot.ipynb\" target=\"_parent\"><img src=\"https://colab.research.google.com/assets/colab-badge.svg\" alt=\"Open In Colab\"/></a>"
      ]
    },
    {
      "cell_type": "code",
      "execution_count": null,
      "metadata": {
        "colab": {
          "base_uri": "https://localhost:8080/"
        },
        "id": "vsaIrxGtOetP",
        "outputId": "5dabf7f8-af9f-4739-994c-7ad8b927e807"
      },
      "outputs": [
        {
          "output_type": "stream",
          "name": "stdout",
          "text": [
            "Looking in indexes: https://pypi.org/simple, https://us-python.pkg.dev/colab-wheels/public/simple/\n",
            "Collecting chatterbot\n",
            "  Downloading ChatterBot-1.0.8-py2.py3-none-any.whl (63 kB)\n",
            "\u001b[K     |████████████████████████████████| 63 kB 1.9 MB/s \n",
            "\u001b[?25hCollecting mathparse<0.2,>=0.1\n",
            "  Downloading mathparse-0.1.2-py3-none-any.whl (7.2 kB)\n",
            "Requirement already satisfied: python-dateutil<2.9,>=2.8 in /usr/local/lib/python3.7/dist-packages (from chatterbot) (2.8.2)\n",
            "Requirement already satisfied: pytz in /usr/local/lib/python3.7/dist-packages (from chatterbot) (2022.1)\n",
            "Collecting sqlalchemy<1.4,>=1.3\n",
            "  Downloading SQLAlchemy-1.3.24-cp37-cp37m-manylinux2010_x86_64.whl (1.3 MB)\n",
            "\u001b[K     |████████████████████████████████| 1.3 MB 10.7 MB/s \n",
            "\u001b[?25hRequirement already satisfied: six>=1.5 in /usr/local/lib/python3.7/dist-packages (from python-dateutil<2.9,>=2.8->chatterbot) (1.15.0)\n",
            "Installing collected packages: sqlalchemy, mathparse, chatterbot\n",
            "  Attempting uninstall: sqlalchemy\n",
            "    Found existing installation: SQLAlchemy 1.4.36\n",
            "    Uninstalling SQLAlchemy-1.4.36:\n",
            "      Successfully uninstalled SQLAlchemy-1.4.36\n",
            "Successfully installed chatterbot-1.0.8 mathparse-0.1.2 sqlalchemy-1.3.24\n",
            "List Trainer: [####################] 100%\n",
            "you :Hi\n",
            "Bot: Who are you?\n",
            "you :Prathamesh \n",
            "Bot: Hi\n"
          ]
        }
      ],
      "source": [
        "!pip install chatterbot\n",
        "from chatterbot import ChatBot\n",
        "from chatterbot.trainers import ListTrainer\n",
        "\n",
        "bot = ChatBot('Bot')\n",
        "\n",
        "trainer = ListTrainer(bot)\n",
        "trainer.train([\n",
        "  \"Who are you?\",\n",
        "  \"I am your virtual assistant. Ask me any questions...\",\n",
        "  \"Where do you operate?\",\n",
        "  \"We operate from Singapore\",\n",
        "  \"What payment methods do you accept?\",\n",
        "  \"We accept debit cards and major credit cards\",\n",
        "  \"I would like to speak to your customer service agent\",\n",
        "  \"please call +91 3333 3333. Our operating hours are from 9am to 5pm, Monday to Friday\"\n",
        "])\n",
        "\n",
        "while True:\n",
        "  request=input('you :')\n",
        "  if request == 'OK' or request == 'ok':\n",
        "    print('Bot: bye')\n",
        "    break\n",
        "  else:\n",
        "    response=bot.get_response(request)\n",
        "    print('Bot:', response)"
      ]
    }
  ]
}