{
  "nbformat": 4,
  "nbformat_minor": 0,
  "metadata": {
    "colab": {
      "provenance": [],
      "include_colab_link": true
    },
    "kernelspec": {
      "name": "python3",
      "display_name": "Python 3"
    },
    "language_info": {
      "name": "python"
    }
  },
  "cells": [
    {
      "cell_type": "markdown",
      "metadata": {
        "id": "view-in-github",
        "colab_type": "text"
      },
      "source": [
        "<a href=\"https://colab.research.google.com/github/Prathameshd19/AI/blob/main/4_1_N_Queens.ipynb\" target=\"_parent\"><img src=\"https://colab.research.google.com/assets/colab-badge.svg\" alt=\"Open In Colab\"/></a>"
      ]
    },
    {
      "cell_type": "code",
      "execution_count": null,
      "metadata": {
        "colab": {
          "base_uri": "https://localhost:8080/"
        },
        "id": "LmJxGJx-GXBY",
        "outputId": "69ed4bdb-5445-4de7-a8ab-267e34763b21"
      },
      "outputs": [
        {
          "output_type": "stream",
          "name": "stdout",
          "text": [
            "0 0 1 0 \n",
            "1 0 0 0 \n",
            "0 0 0 1 \n",
            "0 1 0 0 \n"
          ]
        },
        {
          "output_type": "execute_result",
          "data": {
            "text/plain": [
              "True"
            ]
          },
          "metadata": {},
          "execution_count": 1
        }
      ],
      "source": [
        "global N\n",
        "N = 4\n",
        "\n",
        "def printSolution(board):\n",
        "\tfor i in range(N):\n",
        "\t\tfor j in range(N):\n",
        "\t\t\tprint (board[i][j],end=' ')\n",
        "\t\tprint()\n",
        "\n",
        "def isSafe(board, row, col):\n",
        "\n",
        "\tfor i in range(col):\n",
        "\t\tif board[row][i] == 1:\n",
        "\t\t\treturn False\n",
        "\n",
        "\tfor i, j in zip(range(row, -1, -1), range(col, -1, -1)):\n",
        "\t\tif board[i][j] == 1:\n",
        "\t\t\treturn False\n",
        "\n",
        "\tfor i, j in zip(range(row, N, 1), range(col, -1, -1)):\n",
        "\t\tif board[i][j] == 1:\n",
        "\t\t\treturn False\n",
        "\n",
        "\treturn True\n",
        "\n",
        "def solveNQUtil(board, col):\n",
        "\tif col >= N:\n",
        "\t\treturn True\n",
        "\n",
        "\tfor i in range(N):\n",
        "\n",
        "\t\tif isSafe(board, i, col):\n",
        "\t\t\tboard[i][col] = 1\n",
        "\n",
        "\t\t\tif solveNQUtil(board, col + 1) == True:\n",
        "\t\t\t\treturn True\n",
        "\n",
        "\t\t\tboard[i][col] = 0\n",
        "\n",
        "\n",
        "\treturn False\n",
        "\n",
        "def solveNQ():\n",
        "\tboard = [ [0, 0, 0, 0],\n",
        "\t\t\t[0, 0, 0, 0],\n",
        "\t\t\t[0, 0, 0, 0],\n",
        "\t\t\t[0, 0, 0, 0]\n",
        "\t\t\t]\n",
        "\n",
        "\tif solveNQUtil(board, 0) == False:\n",
        "\t\tprint (\"Solution does not exist\")\n",
        "\t\treturn False\n",
        "\n",
        "\tprintSolution(board)\n",
        "\treturn True\n",
        "\n",
        "\n",
        "solveNQ()"
      ]
    }
  ]
}