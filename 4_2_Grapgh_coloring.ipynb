{
  "nbformat": 4,
  "nbformat_minor": 0,
  "metadata": {
    "colab": {
      "provenance": [],
      "include_colab_link": true
    },
    "kernelspec": {
      "name": "python3",
      "display_name": "Python 3"
    },
    "language_info": {
      "name": "python"
    }
  },
  "cells": [
    {
      "cell_type": "markdown",
      "metadata": {
        "id": "view-in-github",
        "colab_type": "text"
      },
      "source": [
        "<a href=\"https://colab.research.google.com/github/Prathameshd19/AI/blob/main/4_2_Grapgh_coloring.ipynb\" target=\"_parent\"><img src=\"https://colab.research.google.com/assets/colab-badge.svg\" alt=\"Open In Colab\"/></a>"
      ]
    },
    {
      "cell_type": "code",
      "execution_count": null,
      "metadata": {
        "colab": {
          "base_uri": "https://localhost:8080/"
        },
        "id": "bVUYOL-m8ltZ",
        "outputId": "dd0287d7-17a8-40c0-a39f-d6318154f202"
      },
      "outputs": [
        {
          "output_type": "stream",
          "name": "stdout",
          "text": [
            "Node a  =  Yellow\n",
            "Node b  =  Blue\n",
            "Node c  =  Red\n",
            "Node d  =  Yellow\n",
            "Node e  =  Blue\n",
            "Node f  =  Red\n"
          ]
        }
      ],
      "source": []
    }
  ]
}